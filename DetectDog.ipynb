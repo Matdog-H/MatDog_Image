{
 "cells": [
  {
   "cell_type": "code",
   "execution_count": 101,
   "metadata": {},
   "outputs": [],
   "source": [
    "from urllib import request\n",
    "from io import BytesIO\n",
    "import dlib, cv2, os, boto3, awscli\n",
    "from imutils import face_utils\n",
    "import numpy as np\n",
    "import matplotlib.pyplot as plt\n",
    "import matplotlib.image as img\n",
    "from PIL import Image\n",
    "import wget"
   ]
  },
  {
   "cell_type": "code",
   "execution_count": 102,
   "metadata": {},
   "outputs": [],
   "source": [
    "detector = dlib.cnn_face_detection_model_v1('dogHeadDetector.dat')\n",
    "predictor = dlib.shape_predictor('landmarkDetector.dat')"
   ]
  },
  {
   "cell_type": "code",
   "execution_count": 161,
   "metadata": {},
   "outputs": [],
   "source": [
    "def url_read(url):\n",
    "    #강아지 이미지 로드\n",
    "    file= wget.download(url)\n",
    "    img = cv2.imread(file)\n",
    "    img = cv2.cvtColor(img, cv2.COLOR_BGR2RGB)\n",
    "    img = cv2.resize(img, dsize=None, fx=0.5, fy=0.5)\n",
    "    \n",
    "    #강아지 얼굴 인식\n",
    "    dets = detector(img, upsample_num_times=1)\n",
    "    img_result = img.copy()\n",
    "    \n",
    "    # 반복문 사용해서 네모난 틀 만들기\n",
    "    for i, d in enumerate(dets):\n",
    "        x1, y1 = d.rect.left(), d.rect.top()\n",
    "        x2, y2 = d.rect.right(), d.rect.bottom()\n",
    "        cv2.rectangle(img_result, pt1=(x1, y1), pt2=(x2, y2), thickness=2, color=(255,0,0), lineType=cv2.LINE_AA)\n",
    "        s = 'Yes'\n",
    "        return s"
   ]
  },
  {
   "cell_type": "code",
   "execution_count": 162,
   "metadata": {},
   "outputs": [
    {
     "name": "stdout",
     "output_type": "stream",
     "text": [
      "100% [..............................................................................] 67705 / 67705Yes\n"
     ]
    }
   ],
   "source": [
    "url_read(\"https://pbs.twimg.com/media/DluzO_BU4AA4B9o.jpg\")"
   ]
  },
  {
   "cell_type": "code",
   "execution_count": null,
   "metadata": {},
   "outputs": [],
   "source": []
  }
 ],
 "metadata": {
  "kernelspec": {
   "display_name": "Python 3",
   "language": "python",
   "name": "python3"
  },
  "language_info": {
   "codemirror_mode": {
    "name": "ipython",
    "version": 3
   },
   "file_extension": ".py",
   "mimetype": "text/x-python",
   "name": "python",
   "nbconvert_exporter": "python",
   "pygments_lexer": "ipython3",
   "version": "3.8.3"
  }
 },
 "nbformat": 4,
 "nbformat_minor": 4
}
